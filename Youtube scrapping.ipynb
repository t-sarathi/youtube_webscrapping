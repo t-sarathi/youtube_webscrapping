{
 "cells": [
  {
   "cell_type": "markdown",
   "id": "b22d9f63-ee45-4296-8527-d48c74da7c7d",
   "metadata": {},
   "source": [
    "# Ted -Ed youtube channel web scrapping :"
   ]
  },
  {
   "cell_type": "markdown",
   "id": "8e842627-37aa-4663-93d7-34201ad267f6",
   "metadata": {},
   "source": [
    "In this project we are going to scrap data of Ted_Ed channel using selenium framework and webdrivers."
   ]
  },
  {
   "cell_type": "code",
   "execution_count": 6,
   "id": "e9fef33a-3bf8-4055-83c1-63f9cd94fb84",
   "metadata": {},
   "outputs": [],
   "source": [
    "import pandas as pd\n",
    "from tqdm import tqdm\n",
    "import time\n",
    "import numpy as np\n",
    "from selenium import webdriver\n",
    "import chromedriver_binary"
   ]
  },
  {
   "cell_type": "code",
   "execution_count": 8,
   "id": "9c4b4555-6f33-4fdd-b673-e21c873f38a0",
   "metadata": {},
   "outputs": [],
   "source": [
    "from selenium import webdriver\n",
    "from selenium.webdriver.chrome.service import Service\n",
    "from webdriver_manager.chrome import ChromeDriverManager\n",
    "service = Service(ChromeDriverManager().install())\n",
    "\n",
    "# Initialize the Chrome browser\n",
    "browser = webdriver.Chrome(service=service)"
   ]
  },
  {
   "cell_type": "code",
   "execution_count": 6,
   "id": "5debbab8-bd58-4151-bace-5b3ecfb9c22c",
   "metadata": {},
   "outputs": [],
   "source": [
    "\n",
    "# Automatically download and set up ChromeDriver\n",
    "\n",
    "\n",
    "# Navigate to the GeeksforGeeks YouTube channel videos page\n",
    "browser.get('https://www.youtube.com/@TEDEd/videos')\n",
    "\n",
    "# Additional code to interact with the page goes here\n"
   ]
  },
  {
   "cell_type": "code",
   "execution_count": 10,
   "id": "1f6df380-4e62-4036-a33d-d30e452174ff",
   "metadata": {},
   "outputs": [],
   "source": [
    "from  bs4 import BeautifulSoup"
   ]
  },
  {
   "cell_type": "code",
   "execution_count": 11,
   "id": "a7e5c5f1-81f4-448b-a530-0d3dcbd7d503",
   "metadata": {
    "scrolled": true
   },
   "outputs": [
    {
     "ename": "NoSuchWindowException",
     "evalue": "Message: no such window: target window already closed\nfrom unknown error: web view not found\n  (Session info: chrome=126.0.6478.182)\nStacktrace:\n\tGetHandleVerifier [0x0054C203+27395]\n\t(No symbol) [0x004E3E04]\n\t(No symbol) [0x003E1B7F]\n\t(No symbol) [0x003BE483]\n\t(No symbol) [0x0044A06F]\n\t(No symbol) [0x0045C3D6]\n\t(No symbol) [0x00443736]\n\t(No symbol) [0x00417541]\n\t(No symbol) [0x004180BD]\n\tGetHandleVerifier [0x00803AB3+2876339]\n\tGetHandleVerifier [0x00857F7D+3221629]\n\tGetHandleVerifier [0x005CD674+556916]\n\tGetHandleVerifier [0x005D478C+585868]\n\t(No symbol) [0x004ECE44]\n\t(No symbol) [0x004E9858]\n\t(No symbol) [0x004E99F7]\n\t(No symbol) [0x004DBF4E]\n\tBaseThreadInitThunk [0x77497BA9+25]\n\tRtlInitializeExceptionChain [0x77A9C10B+107]\n\tRtlClearBits [0x77A9C08F+191]\n",
     "output_type": "error",
     "traceback": [
      "\u001b[1;31m---------------------------------------------------------------------------\u001b[0m",
      "\u001b[1;31mNoSuchWindowException\u001b[0m                     Traceback (most recent call last)",
      "Cell \u001b[1;32mIn[11], line 1\u001b[0m\n\u001b[1;32m----> 1\u001b[0m soup\u001b[38;5;241m=\u001b[39mBeautifulSoup(browser\u001b[38;5;241m.\u001b[39mpage_source,\u001b[38;5;124m'\u001b[39m\u001b[38;5;124mhtml.parser\u001b[39m\u001b[38;5;124m'\u001b[39m)\n",
      "File \u001b[1;32m~\\anaconda3\\Lib\\site-packages\\selenium\\webdriver\\remote\\webdriver.py:455\u001b[0m, in \u001b[0;36mWebDriver.page_source\u001b[1;34m(self)\u001b[0m\n\u001b[0;32m    446\u001b[0m \u001b[38;5;129m@property\u001b[39m\n\u001b[0;32m    447\u001b[0m \u001b[38;5;28;01mdef\u001b[39;00m \u001b[38;5;21mpage_source\u001b[39m(\u001b[38;5;28mself\u001b[39m) \u001b[38;5;241m-\u001b[39m\u001b[38;5;241m>\u001b[39m \u001b[38;5;28mstr\u001b[39m:\n\u001b[0;32m    448\u001b[0m \u001b[38;5;250m    \u001b[39m\u001b[38;5;124;03m\"\"\"Gets the source of the current page.\u001b[39;00m\n\u001b[0;32m    449\u001b[0m \n\u001b[0;32m    450\u001b[0m \u001b[38;5;124;03m    :Usage:\u001b[39;00m\n\u001b[1;32m   (...)\u001b[0m\n\u001b[0;32m    453\u001b[0m \u001b[38;5;124;03m            driver.page_source\u001b[39;00m\n\u001b[0;32m    454\u001b[0m \u001b[38;5;124;03m    \"\"\"\u001b[39;00m\n\u001b[1;32m--> 455\u001b[0m     \u001b[38;5;28;01mreturn\u001b[39;00m \u001b[38;5;28mself\u001b[39m\u001b[38;5;241m.\u001b[39mexecute(Command\u001b[38;5;241m.\u001b[39mGET_PAGE_SOURCE)[\u001b[38;5;124m\"\u001b[39m\u001b[38;5;124mvalue\u001b[39m\u001b[38;5;124m\"\u001b[39m]\n",
      "File \u001b[1;32m~\\anaconda3\\Lib\\site-packages\\selenium\\webdriver\\remote\\webdriver.py:354\u001b[0m, in \u001b[0;36mWebDriver.execute\u001b[1;34m(self, driver_command, params)\u001b[0m\n\u001b[0;32m    352\u001b[0m response \u001b[38;5;241m=\u001b[39m \u001b[38;5;28mself\u001b[39m\u001b[38;5;241m.\u001b[39mcommand_executor\u001b[38;5;241m.\u001b[39mexecute(driver_command, params)\n\u001b[0;32m    353\u001b[0m \u001b[38;5;28;01mif\u001b[39;00m response:\n\u001b[1;32m--> 354\u001b[0m     \u001b[38;5;28mself\u001b[39m\u001b[38;5;241m.\u001b[39merror_handler\u001b[38;5;241m.\u001b[39mcheck_response(response)\n\u001b[0;32m    355\u001b[0m     response[\u001b[38;5;124m\"\u001b[39m\u001b[38;5;124mvalue\u001b[39m\u001b[38;5;124m\"\u001b[39m] \u001b[38;5;241m=\u001b[39m \u001b[38;5;28mself\u001b[39m\u001b[38;5;241m.\u001b[39m_unwrap_value(response\u001b[38;5;241m.\u001b[39mget(\u001b[38;5;124m\"\u001b[39m\u001b[38;5;124mvalue\u001b[39m\u001b[38;5;124m\"\u001b[39m, \u001b[38;5;28;01mNone\u001b[39;00m))\n\u001b[0;32m    356\u001b[0m     \u001b[38;5;28;01mreturn\u001b[39;00m response\n",
      "File \u001b[1;32m~\\anaconda3\\Lib\\site-packages\\selenium\\webdriver\\remote\\errorhandler.py:229\u001b[0m, in \u001b[0;36mErrorHandler.check_response\u001b[1;34m(self, response)\u001b[0m\n\u001b[0;32m    227\u001b[0m         alert_text \u001b[38;5;241m=\u001b[39m value[\u001b[38;5;124m\"\u001b[39m\u001b[38;5;124malert\u001b[39m\u001b[38;5;124m\"\u001b[39m]\u001b[38;5;241m.\u001b[39mget(\u001b[38;5;124m\"\u001b[39m\u001b[38;5;124mtext\u001b[39m\u001b[38;5;124m\"\u001b[39m)\n\u001b[0;32m    228\u001b[0m     \u001b[38;5;28;01mraise\u001b[39;00m exception_class(message, screen, stacktrace, alert_text)  \u001b[38;5;66;03m# type: ignore[call-arg]  # mypy is not smart enough here\u001b[39;00m\n\u001b[1;32m--> 229\u001b[0m \u001b[38;5;28;01mraise\u001b[39;00m exception_class(message, screen, stacktrace)\n",
      "\u001b[1;31mNoSuchWindowException\u001b[0m: Message: no such window: target window already closed\nfrom unknown error: web view not found\n  (Session info: chrome=126.0.6478.182)\nStacktrace:\n\tGetHandleVerifier [0x0054C203+27395]\n\t(No symbol) [0x004E3E04]\n\t(No symbol) [0x003E1B7F]\n\t(No symbol) [0x003BE483]\n\t(No symbol) [0x0044A06F]\n\t(No symbol) [0x0045C3D6]\n\t(No symbol) [0x00443736]\n\t(No symbol) [0x00417541]\n\t(No symbol) [0x004180BD]\n\tGetHandleVerifier [0x00803AB3+2876339]\n\tGetHandleVerifier [0x00857F7D+3221629]\n\tGetHandleVerifier [0x005CD674+556916]\n\tGetHandleVerifier [0x005D478C+585868]\n\t(No symbol) [0x004ECE44]\n\t(No symbol) [0x004E9858]\n\t(No symbol) [0x004E99F7]\n\t(No symbol) [0x004DBF4E]\n\tBaseThreadInitThunk [0x77497BA9+25]\n\tRtlInitializeExceptionChain [0x77A9C10B+107]\n\tRtlClearBits [0x77A9C08F+191]\n"
     ]
    }
   ],
   "source": [
    "soup=BeautifulSoup(browser.page_source,'html.parser')"
   ]
  },
  {
   "cell_type": "code",
   "execution_count": 9,
   "id": "5d470f91-09c4-4cc4-9e55-be8f1694a6a3",
   "metadata": {},
   "outputs": [],
   "source": [
    "sp=soup.find('ytd-two-column-browse-results-renderer')"
   ]
  },
  {
   "cell_type": "code",
   "execution_count": 10,
   "id": "2f1aeb6a-1c5c-4776-b2fe-e5a603499231",
   "metadata": {},
   "outputs": [],
   "source": [
    "sp1=sp.find_all('ytd-rich-item-renderer')"
   ]
  },
  {
   "cell_type": "code",
   "execution_count": 11,
   "id": "be8b2845-4962-430b-980f-c3175d83bb3b",
   "metadata": {},
   "outputs": [],
   "source": [
    "data=[]\n",
    "for i in (sp1):\n",
    "\n",
    "    title=i.find('a',class_='yt-simple-endpoint focus-on-expand style-scope ytd-rich-grid-media').text\n",
    "    \n",
    "    link=i.find('a',class_='yt-simple-endpoint focus-on-expand style-scope ytd-rich-grid-media').get('href')\n",
    "    video_link='https://www.youtube.com'+str(link)\n",
    "    \n",
    "    views=i.find('span',class_='inline-metadata-item style-scope ytd-video-meta-block').text.split(\" \")[0]\n",
    "    \n",
    "    publish_date_time=i.find_all('span')[-1].text\n",
    "\n",
    "    data.append([title,views,publish_date_time,video_link])\n",
    "    \n",
    "    "
   ]
  },
  {
   "cell_type": "code",
   "execution_count": 12,
   "id": "1bdb0a07-ae1c-4631-9ed4-3c0b7873f6d9",
   "metadata": {},
   "outputs": [],
   "source": [
    "df=pd.DataFrame(data,columns=['Video_title','Views','Data_Time','Video_link'])"
   ]
  },
  {
   "cell_type": "code",
   "execution_count": 15,
   "id": "ed0a3dbd-736a-4f12-b2b9-1515d4c2e6cb",
   "metadata": {},
   "outputs": [],
   "source": [
    "df.to_csv('TED_ED1.csv',index=False)"
   ]
  },
  {
   "cell_type": "code",
   "execution_count": 19,
   "id": "2fd0cf3c-cb85-4ee4-aaeb-e3e2226f2166",
   "metadata": {},
   "outputs": [],
   "source": [
    "df1_new=pd.read_csv('TED_ED1.csv')"
   ]
  },
  {
   "cell_type": "code",
   "execution_count": 13,
   "id": "067a1e64-f453-4573-a214-0bba27ee8831",
   "metadata": {},
   "outputs": [
    {
     "name": "stderr",
     "output_type": "stream",
     "text": [
      " 44%|████▍     | 945/2146 [1:38:38<2:05:22,  6.26s/it]\n"
     ]
    },
    {
     "ename": "KeyboardInterrupt",
     "evalue": "",
     "output_type": "error",
     "traceback": [
      "\u001b[1;31m---------------------------------------------------------------------------\u001b[0m",
      "\u001b[1;31mKeyboardInterrupt\u001b[0m                         Traceback (most recent call last)",
      "Cell \u001b[1;32mIn[13], line 6\u001b[0m\n\u001b[0;32m      3\u001b[0m \u001b[38;5;28;01mfor\u001b[39;00m link \u001b[38;5;129;01min\u001b[39;00m tqdm(df[\u001b[38;5;124m'\u001b[39m\u001b[38;5;124mVideo_link\u001b[39m\u001b[38;5;124m'\u001b[39m]):\n\u001b[0;32m      5\u001b[0m     browser\u001b[38;5;241m.\u001b[39mget(link)  \n\u001b[1;32m----> 6\u001b[0m     time\u001b[38;5;241m.\u001b[39msleep(\u001b[38;5;241m2\u001b[39m)\n\u001b[0;32m      8\u001b[0m     soup\u001b[38;5;241m=\u001b[39mBeautifulSoup(browser\u001b[38;5;241m.\u001b[39mpage_source,\u001b[38;5;124m'\u001b[39m\u001b[38;5;124mhtml.parser\u001b[39m\u001b[38;5;124m'\u001b[39m)\n\u001b[0;32m      9\u001b[0m     sp\u001b[38;5;241m=\u001b[39msoup\u001b[38;5;241m.\u001b[39mfind(\u001b[38;5;124m'\u001b[39m\u001b[38;5;124mdiv\u001b[39m\u001b[38;5;124m'\u001b[39m,class_\u001b[38;5;241m=\u001b[39m\u001b[38;5;124m'\u001b[39m\u001b[38;5;124mstyle-scope ytd-watch-metadata\u001b[39m\u001b[38;5;124m'\u001b[39m)\n",
      "\u001b[1;31mKeyboardInterrupt\u001b[0m: "
     ]
    }
   ],
   "source": [
    "data=[]\n",
    "browser = webdriver.Chrome(service=service)\n",
    "for link in tqdm(df['Video_link']):\n",
    "\n",
    "    browser.get(link)  \n",
    "    time.sleep(2)\n",
    "\n",
    "    soup=BeautifulSoup(browser.page_source,'html.parser')\n",
    "    sp=soup.find('div',class_='style-scope ytd-watch-metadata')\n",
    "    try:\n",
    "        views=sp.find('div',class_='style-scope ytd-watch-info-text').text.replace('\\n','').split(' ')[0]\n",
    "    except:\n",
    "        views=np.nan\n",
    "    try:\n",
    "       likes=sp.find_all('button')[2].get('aria-label').split(' ')[-3]\n",
    "    except:\n",
    "        likes=np.nan\n",
    "    try:\n",
    "        comments=soup.find('ytd-comments',class_=\"style-scope ytd-watch-flexy\").find('span',class_='style-scope yt-formatted-string').text\n",
    "    except:\n",
    "        comments=np.nan\n",
    "    data.append([views,likes,comments])\n",
    "    \n",
    "    "
   ]
  },
  {
   "cell_type": "code",
   "execution_count": 15,
   "id": "dd5c67d7-d8e2-4842-8564-89aa2bf7aed9",
   "metadata": {},
   "outputs": [],
   "source": [
    "df2=pd.DataFrame(data,columns=['Views','likes','comment'])"
   ]
  },
  {
   "cell_type": "code",
   "execution_count": 17,
   "id": "c1f74dfd-d519-4a1b-a1ce-a8d676f40f6d",
   "metadata": {},
   "outputs": [],
   "source": [
    "df2.to_csv('TED_ED2.csv',index=False)"
   ]
  },
  {
   "cell_type": "code",
   "execution_count": 18,
   "id": "a89e95a2-43e0-4d35-ae28-a98846d57933",
   "metadata": {},
   "outputs": [],
   "source": [
    "df2_new=pd.read_csv('TED_ED2.csv')"
   ]
  },
  {
   "cell_type": "code",
   "execution_count": 34,
   "id": "cf04a6bd-8e1d-429f-8a13-f04f6429e1e3",
   "metadata": {},
   "outputs": [
    {
     "data": {
      "text/html": [
       "<div>\n",
       "<style scoped>\n",
       "    .dataframe tbody tr th:only-of-type {\n",
       "        vertical-align: middle;\n",
       "    }\n",
       "\n",
       "    .dataframe tbody tr th {\n",
       "        vertical-align: top;\n",
       "    }\n",
       "\n",
       "    .dataframe thead th {\n",
       "        text-align: right;\n",
       "    }\n",
       "</style>\n",
       "<table border=\"1\" class=\"dataframe\">\n",
       "  <thead>\n",
       "    <tr style=\"text-align: right;\">\n",
       "      <th></th>\n",
       "      <th>Video_title</th>\n",
       "      <th>Views</th>\n",
       "      <th>Data_Time</th>\n",
       "      <th>Video_link</th>\n",
       "    </tr>\n",
       "  </thead>\n",
       "  <tbody>\n",
       "    <tr>\n",
       "      <th>0</th>\n",
       "      <td>The weirdest (and coolest) tongues in the anim...</td>\n",
       "      <td>89K</td>\n",
       "      <td>1 day ago</td>\n",
       "      <td>https://www.youtube.com/watch?v=dzX8hvoGtT8</td>\n",
       "    </tr>\n",
       "    <tr>\n",
       "      <th>1</th>\n",
       "      <td>The Greek myth of the serpent’s curse - Iseult...</td>\n",
       "      <td>173K</td>\n",
       "      <td>6 days ago</td>\n",
       "      <td>https://www.youtube.com/watch?v=H7ZhDe1K8uU</td>\n",
       "    </tr>\n",
       "    <tr>\n",
       "      <th>2</th>\n",
       "      <td>Why fish are better at breathing than you are ...</td>\n",
       "      <td>228K</td>\n",
       "      <td>8 days ago</td>\n",
       "      <td>https://www.youtube.com/watch?v=bH3O69BscYg</td>\n",
       "    </tr>\n",
       "    <tr>\n",
       "      <th>3</th>\n",
       "      <td>What happens in your body during a miscarriage...</td>\n",
       "      <td>285K</td>\n",
       "      <td>2 weeks ago</td>\n",
       "      <td>https://www.youtube.com/watch?v=fKja0y17vt4</td>\n",
       "    </tr>\n",
       "  </tbody>\n",
       "</table>\n",
       "</div>"
      ],
      "text/plain": [
       "                                         Video_title Views    Data_Time  \\\n",
       "0  The weirdest (and coolest) tongues in the anim...   89K    1 day ago   \n",
       "1  The Greek myth of the serpent’s curse - Iseult...  173K   6 days ago   \n",
       "2  Why fish are better at breathing than you are ...  228K   8 days ago   \n",
       "3  What happens in your body during a miscarriage...  285K  2 weeks ago   \n",
       "\n",
       "                                    Video_link  \n",
       "0  https://www.youtube.com/watch?v=dzX8hvoGtT8  \n",
       "1  https://www.youtube.com/watch?v=H7ZhDe1K8uU  \n",
       "2  https://www.youtube.com/watch?v=bH3O69BscYg  \n",
       "3  https://www.youtube.com/watch?v=fKja0y17vt4  "
      ]
     },
     "execution_count": 34,
     "metadata": {},
     "output_type": "execute_result"
    }
   ],
   "source": [
    "df1_new.head(4)"
   ]
  },
  {
   "cell_type": "code",
   "execution_count": 33,
   "id": "f527af06-0f2c-4ef9-ae72-fc688e12652b",
   "metadata": {},
   "outputs": [
    {
     "data": {
      "text/html": [
       "<div>\n",
       "<style scoped>\n",
       "    .dataframe tbody tr th:only-of-type {\n",
       "        vertical-align: middle;\n",
       "    }\n",
       "\n",
       "    .dataframe tbody tr th {\n",
       "        vertical-align: top;\n",
       "    }\n",
       "\n",
       "    .dataframe thead th {\n",
       "        text-align: right;\n",
       "    }\n",
       "</style>\n",
       "<table border=\"1\" class=\"dataframe\">\n",
       "  <thead>\n",
       "    <tr style=\"text-align: right;\">\n",
       "      <th></th>\n",
       "      <th>Views</th>\n",
       "      <th>likes</th>\n",
       "      <th>comment</th>\n",
       "    </tr>\n",
       "  </thead>\n",
       "  <tbody>\n",
       "    <tr>\n",
       "      <th>0</th>\n",
       "      <td>93K</td>\n",
       "      <td>4,716</td>\n",
       "      <td>NaN</td>\n",
       "    </tr>\n",
       "    <tr>\n",
       "      <th>1</th>\n",
       "      <td>175K</td>\n",
       "      <td>6,670</td>\n",
       "      <td>NaN</td>\n",
       "    </tr>\n",
       "    <tr>\n",
       "      <th>2</th>\n",
       "      <td>229K</td>\n",
       "      <td>9,298</td>\n",
       "      <td>NaN</td>\n",
       "    </tr>\n",
       "    <tr>\n",
       "      <th>3</th>\n",
       "      <td>286K</td>\n",
       "      <td>12,941</td>\n",
       "      <td>NaN</td>\n",
       "    </tr>\n",
       "  </tbody>\n",
       "</table>\n",
       "</div>"
      ],
      "text/plain": [
       "  Views   likes comment\n",
       "0   93K   4,716     NaN\n",
       "1  175K   6,670     NaN\n",
       "2  229K   9,298     NaN\n",
       "3  286K  12,941     NaN"
      ]
     },
     "execution_count": 33,
     "metadata": {},
     "output_type": "execute_result"
    }
   ],
   "source": [
    "df2_new.head(4)"
   ]
  },
  {
   "cell_type": "code",
   "execution_count": 31,
   "id": "9d188c1c-73bd-41ff-98f2-4e5c1eeeb6eb",
   "metadata": {},
   "outputs": [],
   "source": [
    "new_data_frame=pd.DataFrame()"
   ]
  },
  {
   "cell_type": "code",
   "execution_count": 35,
   "id": "a16a00a3-7dda-4898-a67d-8b52bc4aa8c1",
   "metadata": {},
   "outputs": [],
   "source": [
    "new_data_frame['video_title']=df1_new['Video_title']\n",
    "new_data_frame['views']=df2_new['Views']\n",
    "new_data_frame['likes']=df2_new['likes']\n",
    "new_data_frame['comments']=df2_new['comment']\n",
    "new_data_frame['release_date_time']=df1_new['Data_Time']\n",
    "new_data_frame['link']=df1_new['Video_link']\n"
   ]
  },
  {
   "cell_type": "code",
   "execution_count": 39,
   "id": "869181ca-d1d2-4efb-bd9e-879653e83ed5",
   "metadata": {},
   "outputs": [
    {
     "data": {
      "text/html": [
       "<div>\n",
       "<style scoped>\n",
       "    .dataframe tbody tr th:only-of-type {\n",
       "        vertical-align: middle;\n",
       "    }\n",
       "\n",
       "    .dataframe tbody tr th {\n",
       "        vertical-align: top;\n",
       "    }\n",
       "\n",
       "    .dataframe thead th {\n",
       "        text-align: right;\n",
       "    }\n",
       "</style>\n",
       "<table border=\"1\" class=\"dataframe\">\n",
       "  <thead>\n",
       "    <tr style=\"text-align: right;\">\n",
       "      <th></th>\n",
       "      <th>video_title</th>\n",
       "      <th>views</th>\n",
       "      <th>likes</th>\n",
       "      <th>comments</th>\n",
       "      <th>release_date_time</th>\n",
       "      <th>link</th>\n",
       "    </tr>\n",
       "  </thead>\n",
       "  <tbody>\n",
       "    <tr>\n",
       "      <th>1542</th>\n",
       "      <td>Should you trust your first impression? - Pete...</td>\n",
       "      <td>NaN</td>\n",
       "      <td>NaN</td>\n",
       "      <td>NaN</td>\n",
       "      <td>10 years ago</td>\n",
       "      <td>https://www.youtube.com/watch?v=eK0NzsGRceg</td>\n",
       "    </tr>\n",
       "    <tr>\n",
       "      <th>791</th>\n",
       "      <td>Can you solve the seven planets riddle? - Edwi...</td>\n",
       "      <td>4.3M</td>\n",
       "      <td>49,281</td>\n",
       "      <td>NaN</td>\n",
       "      <td>6 years ago</td>\n",
       "      <td>https://www.youtube.com/watch?v=dh4nEuhZBgg</td>\n",
       "    </tr>\n",
       "    <tr>\n",
       "      <th>1088</th>\n",
       "      <td>What is depression? - Helen M. Farrell</td>\n",
       "      <td>NaN</td>\n",
       "      <td>NaN</td>\n",
       "      <td>NaN</td>\n",
       "      <td>8 years ago</td>\n",
       "      <td>https://www.youtube.com/watch?v=z-IR48Mb3W0</td>\n",
       "    </tr>\n",
       "    <tr>\n",
       "      <th>118</th>\n",
       "      <td>Is it normal to talk to yourself?</td>\n",
       "      <td>5.7M</td>\n",
       "      <td>300,179</td>\n",
       "      <td>NaN</td>\n",
       "      <td>1 year ago</td>\n",
       "      <td>https://www.youtube.com/watch?v=iNyUmbmQQZg</td>\n",
       "    </tr>\n",
       "  </tbody>\n",
       "</table>\n",
       "</div>"
      ],
      "text/plain": [
       "                                            video_title views    likes  \\\n",
       "1542  Should you trust your first impression? - Pete...   NaN      NaN   \n",
       "791   Can you solve the seven planets riddle? - Edwi...  4.3M   49,281   \n",
       "1088             What is depression? - Helen M. Farrell   NaN      NaN   \n",
       "118                   Is it normal to talk to yourself?  5.7M  300,179   \n",
       "\n",
       "     comments release_date_time                                         link  \n",
       "1542      NaN      10 years ago  https://www.youtube.com/watch?v=eK0NzsGRceg  \n",
       "791       NaN       6 years ago  https://www.youtube.com/watch?v=dh4nEuhZBgg  \n",
       "1088      NaN       8 years ago  https://www.youtube.com/watch?v=z-IR48Mb3W0  \n",
       "118       NaN        1 year ago  https://www.youtube.com/watch?v=iNyUmbmQQZg  "
      ]
     },
     "execution_count": 39,
     "metadata": {},
     "output_type": "execute_result"
    }
   ],
   "source": [
    "new_data_frame.sample(4)"
   ]
  },
  {
   "cell_type": "code",
   "execution_count": 41,
   "id": "07234fe7-5f41-48fe-bfe7-6cebf547e39e",
   "metadata": {},
   "outputs": [],
   "source": [
    "new_data_frame.to_csv('ted_ed_original.csv',index=False)"
   ]
  },
  {
   "cell_type": "code",
   "execution_count": null,
   "id": "832d7ab4-5fe6-4954-85df-3d6d89492f3a",
   "metadata": {},
   "outputs": [],
   "source": []
  },
  {
   "cell_type": "code",
   "execution_count": null,
   "id": "cf0d2364-3345-490c-9101-4b040dcce8df",
   "metadata": {},
   "outputs": [],
   "source": []
  }
 ],
 "metadata": {
  "kernelspec": {
   "display_name": "Python 3 (ipykernel)",
   "language": "python",
   "name": "python3"
  },
  "language_info": {
   "codemirror_mode": {
    "name": "ipython",
    "version": 3
   },
   "file_extension": ".py",
   "mimetype": "text/x-python",
   "name": "python",
   "nbconvert_exporter": "python",
   "pygments_lexer": "ipython3",
   "version": "3.11.7"
  },
  "widgets": {
   "application/vnd.jupyter.widget-state+json": {
    "state": {},
    "version_major": 2,
    "version_minor": 0
   }
  }
 },
 "nbformat": 4,
 "nbformat_minor": 5
}
